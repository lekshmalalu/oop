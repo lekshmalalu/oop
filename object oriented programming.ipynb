{
 "cells": [
  {
   "cell_type": "code",
   "execution_count": 7,
   "id": "fba545c5",
   "metadata": {},
   "outputs": [
    {
     "name": "stdout",
     "output_type": "stream",
     "text": [
      "car name is maruthy\n",
      "car model is maruthy800\n",
      "-----------------------------------------------\n",
      "car name is benz\n",
      "car model is s class\n"
     ]
    }
   ],
   "source": [
    "class car:\n",
    "    def __init__(self,name,model):\n",
    "        self.name=name\n",
    "        self.model=model\n",
    "        \n",
    "    def car_name(self):\n",
    "        print('car name is',self.name)\n",
    "        \n",
    "    def car_model(self):\n",
    "        print('car model is',self.model)\n",
    "        \n",
    "car1 = car('maruthy','maruthy800')\n",
    "car1.car_name()\n",
    "car1.car_model()\n",
    "print('-----------------------------------------------')\n",
    "car2=car('benz','s class')\n",
    "car2.car_name()\n",
    "car2.car_model()\n",
    "        "
   ]
  },
  {
   "cell_type": "markdown",
   "id": "78a78cb7",
   "metadata": {},
   "source": [
    "## 1. Write a Python program to create a class representing a Circle. Include methods to calculate its area and perimeter.\n"
   ]
  },
  {
   "cell_type": "code",
   "execution_count": 33,
   "id": "c7b3e5d3",
   "metadata": {},
   "outputs": [
    {
     "name": "stdout",
     "output_type": "stream",
     "text": [
      "area of the circle is 201.06192982974676\n",
      "perimeeter of the circle is 50.26548245743669\n",
      "area of the circle is 113.09733552923255\n",
      "perimeeter of the circle is 37.69911184307752\n"
     ]
    }
   ],
   "source": [
    "import math \n",
    "class Circle:\n",
    "    def __init__(self,radius):\n",
    "        self.radius=radius\n",
    "    def circle_area(self):\n",
    "        print(\"area of the circle is\",math.pi*(self.radius**2))\n",
    "        \n",
    "    def circle_perimeter(self):\n",
    "        print(\"perimeeter of the circle is\",2*math.pi*self.radius)\n",
    "circle1=Circle(8)\n",
    "circle1.circle_area()\n",
    "circle1.circle_perimeter()\n",
    "\n",
    "circle2=Circle(6)\n",
    "circle2.circle_area()\n",
    "circle2.circle_perimeter()\n",
    "        "
   ]
  },
  {
   "cell_type": "markdown",
   "id": "a0dad6ca",
   "metadata": {},
   "source": [
    "## Write a Python program to create a calculator class. Include methods for basic arithmetic operations."
   ]
  },
  {
   "cell_type": "code",
   "execution_count": 3,
   "id": "0a6b203b",
   "metadata": {},
   "outputs": [
    {
     "name": "stdout",
     "output_type": "stream",
     "text": [
      "6 + 6 = 12\n",
      "6 - 6 = 0\n",
      "6 / 6 = 1.0\n"
     ]
    }
   ],
   "source": [
    "class Calculator:\n",
    "    def __init__(self,number1,number2):\n",
    "        self.number1=number2\n",
    "        self.number2=number2\n",
    "    def addition(self):\n",
    "        print(self.number1,\"+\",self.number2,'=',self.number1+self.number2)\n",
    "    def Subtraction(self):\n",
    "        print(self.number1,\"-\",self.number2,\"=\",self.number1-self.number2)\n",
    "        \n",
    "    def division(self):\n",
    "        \n",
    "        if self.number2!=0:\n",
    "            print(self.number1,\"/\",self.number2,'=',self.number1/self.number2)\n",
    "            \n",
    "        else:\n",
    "            print('not defined')\n",
    "Calculator1=Calculator(8,6)\n",
    "Calculator1.addition()\n",
    "Calculator1.Subtraction()\n",
    "Calculator1.division()\n",
    "\n",
    "    \n",
    "            \n",
    "            \n",
    "    "
   ]
  },
  {
   "cell_type": "markdown",
   "id": "1e963640",
   "metadata": {},
   "source": [
    "## Write a Python program to create a class that represents a shape. Include methods to calculate its area and perimeter. Implement subclasses for different shapes like circle, triangle, and square."
   ]
  },
  {
   "cell_type": "code",
   "execution_count": 13,
   "id": "978002a1",
   "metadata": {},
   "outputs": [
    {
     "name": "stdout",
     "output_type": "stream",
     "text": [
      "area and perimeter of the circle\n",
      "area of the circle is 50.26548245743669\n",
      "perimeeter of the circle is 25.132741228718345\n"
     ]
    }
   ],
   "source": [
    "import math\n",
    "\n",
    "class shape:\n",
    "    def __init__(self,radius,base,height,length,breadth,side1,side2):\n",
    "        self.radius=radius\n",
    "        self.base=base\n",
    "        self.height=height\n",
    "        self.breadth=breadth\n",
    "        self.length=length\n",
    "        pass \n",
    "class Circle(shape):\n",
    "        \n",
    "        \n",
    "    def circle_area(self):\n",
    "            print(\"area of the circle is\",math.pi*(self.radius**2))\n",
    "    def circle_perimeter(self):\n",
    "            print(\"perimeeter of the circle is\",2*math.pi*self.radius)\n",
    "            \n",
    "            \n",
    "class traingle(shape):\n",
    "        \n",
    "    def traingle_area(self):\n",
    "            print(\"area of the traingle is \",1/2*base*height)\n",
    "    def traingle_perimeter(self):\n",
    "            print(\"perimeter of the traimgle is \",self.side1,self.side2)\n",
    "class square(shape):\n",
    "    def square_area(self):\n",
    "        if length==breadth:\n",
    "            print(\"area of the square is\",self.length*self.breadth)\n",
    "        else:\n",
    "            print(\"it is not a square\")\n",
    "    def square_perimeter(Self):\n",
    "        if length==breadth:\n",
    "            print(\"perimeter of the square is\",2*(self.length+self.breadth))\n",
    "        else:\n",
    "            print(\"it is not a square\")\n",
    "            \n",
    "            \n",
    "            \n",
    "print(\"area and perimeter of the circle\")\n",
    "circle1=Circle(4,8,7,5,9,6,9)\n",
    "circle1.circle_area()\n",
    "circle1.circle_perimeter()\n",
    "\n",
    "PRINT(>>>>>>>>>)\n",
    "\n",
    "Print(\"area and perimeter of the traingle\")\n",
    "triangle=trqaingle()\n",
    "\n",
    "\n",
    "        "
   ]
  },
  {
   "cell_type": "code",
   "execution_count": null,
   "id": "3634c0e3",
   "metadata": {},
   "outputs": [],
   "source": []
  },
  {
   "cell_type": "code",
   "execution_count": null,
   "id": "5c6d8d5d",
   "metadata": {},
   "outputs": [],
   "source": []
  },
  {
   "cell_type": "code",
   "execution_count": null,
   "id": "4a13311f",
   "metadata": {},
   "outputs": [],
   "source": []
  },
  {
   "cell_type": "code",
   "execution_count": null,
   "id": "3500a557",
   "metadata": {},
   "outputs": [],
   "source": []
  },
  {
   "cell_type": "code",
   "execution_count": null,
   "id": "4324ca49",
   "metadata": {},
   "outputs": [],
   "source": []
  },
  {
   "cell_type": "code",
   "execution_count": null,
   "id": "caea8a23",
   "metadata": {},
   "outputs": [],
   "source": []
  },
  {
   "cell_type": "code",
   "execution_count": null,
   "id": "d341153d",
   "metadata": {},
   "outputs": [],
   "source": []
  },
  {
   "cell_type": "code",
   "execution_count": null,
   "id": "ca13c646",
   "metadata": {},
   "outputs": [],
   "source": []
  },
  {
   "cell_type": "code",
   "execution_count": null,
   "id": "5bdea916",
   "metadata": {},
   "outputs": [],
   "source": []
  },
  {
   "cell_type": "code",
   "execution_count": null,
   "id": "9c3238e6",
   "metadata": {},
   "outputs": [],
   "source": []
  },
  {
   "cell_type": "code",
   "execution_count": null,
   "id": "4073ea44",
   "metadata": {},
   "outputs": [],
   "source": []
  }
 ],
 "metadata": {
  "kernelspec": {
   "display_name": "Python 3 (ipykernel)",
   "language": "python",
   "name": "python3"
  },
  "language_info": {
   "codemirror_mode": {
    "name": "ipython",
    "version": 3
   },
   "file_extension": ".py",
   "mimetype": "text/x-python",
   "name": "python",
   "nbconvert_exporter": "python",
   "pygments_lexer": "ipython3",
   "version": "3.11.4"
  }
 },
 "nbformat": 4,
 "nbformat_minor": 5
}
